{
 "cells": [
  {
   "cell_type": "code",
   "execution_count": 2,
   "metadata": {},
   "outputs": [],
   "source": [
    "import numpy as np\n",
    "import pandas as pd\n",
    "from sklearn.linear_model import LinearRegression, Ridge, RidgeCV, Lasso, LassoCV\n",
    "from sklearn.preprocessing import PolynomialFeatures, StandardScaler\n",
    "from sklearn.pipeline import Pipeline\n",
    "from sklearn.model_selection import train_test_split, cross_val_score, KFold\n"
   ]
  },
  {
   "cell_type": "markdown",
   "metadata": {},
   "source": [
    "## 1. The data and problem\n",
    "\n",
    "For this lesson, we'll work with a new dataset of unknown origin (for the moment). \n",
    "\n",
    "In a not too unbelievable scenario, imagine that your boss has given you these data and said, \"I don't really know what all of this stuff means, but I need you to model this and get me a model to predict $y$ using these data!\", and of course they add, \"I need this by the end of the day!\"\n",
    "![Drawing of a boss and person at computer](images/the_boss_small.jpg)\n",
    "\n",
    "\n",
    "Let's load the data and start looking at it..."
   ]
  },
  {
   "cell_type": "code",
   "execution_count": 3,
   "metadata": {},
   "outputs": [],
   "source": [
    "df = pd.read_csv('data/regularization.csv')"
   ]
  },
  {
   "cell_type": "code",
   "execution_count": 4,
   "metadata": {},
   "outputs": [
    {
     "data": {
      "text/html": [
       "<div>\n",
       "<style scoped>\n",
       "    .dataframe tbody tr th:only-of-type {\n",
       "        vertical-align: middle;\n",
       "    }\n",
       "\n",
       "    .dataframe tbody tr th {\n",
       "        vertical-align: top;\n",
       "    }\n",
       "\n",
       "    .dataframe thead th {\n",
       "        text-align: right;\n",
       "    }\n",
       "</style>\n",
       "<table border=\"1\" class=\"dataframe\">\n",
       "  <thead>\n",
       "    <tr style=\"text-align: right;\">\n",
       "      <th></th>\n",
       "      <th>x1</th>\n",
       "      <th>x2</th>\n",
       "      <th>x3</th>\n",
       "      <th>x4</th>\n",
       "      <th>x5</th>\n",
       "      <th>x6</th>\n",
       "      <th>x7</th>\n",
       "      <th>x8</th>\n",
       "      <th>x9</th>\n",
       "      <th>x10</th>\n",
       "      <th>...</th>\n",
       "      <th>x12</th>\n",
       "      <th>x13</th>\n",
       "      <th>x14</th>\n",
       "      <th>x15</th>\n",
       "      <th>x16</th>\n",
       "      <th>x17</th>\n",
       "      <th>x18</th>\n",
       "      <th>x19</th>\n",
       "      <th>x20</th>\n",
       "      <th>y</th>\n",
       "    </tr>\n",
       "  </thead>\n",
       "  <tbody>\n",
       "    <tr>\n",
       "      <th>0</th>\n",
       "      <td>0.126504</td>\n",
       "      <td>0.477706</td>\n",
       "      <td>0.313475</td>\n",
       "      <td>0.514386</td>\n",
       "      <td>0.743750</td>\n",
       "      <td>0.234681</td>\n",
       "      <td>0.671997</td>\n",
       "      <td>0.270976</td>\n",
       "      <td>0.519267</td>\n",
       "      <td>0.361153</td>\n",
       "      <td>...</td>\n",
       "      <td>0.571807</td>\n",
       "      <td>0.281180</td>\n",
       "      <td>0.814374</td>\n",
       "      <td>0.527172</td>\n",
       "      <td>0.550691</td>\n",
       "      <td>0.021509</td>\n",
       "      <td>0.028173</td>\n",
       "      <td>0.837283</td>\n",
       "      <td>0.261703</td>\n",
       "      <td>4.077128</td>\n",
       "    </tr>\n",
       "    <tr>\n",
       "      <th>1</th>\n",
       "      <td>0.121590</td>\n",
       "      <td>0.483381</td>\n",
       "      <td>0.724387</td>\n",
       "      <td>0.818556</td>\n",
       "      <td>0.872479</td>\n",
       "      <td>0.441711</td>\n",
       "      <td>0.795640</td>\n",
       "      <td>0.474486</td>\n",
       "      <td>0.157817</td>\n",
       "      <td>0.251904</td>\n",
       "      <td>...</td>\n",
       "      <td>0.403155</td>\n",
       "      <td>0.372762</td>\n",
       "      <td>0.226465</td>\n",
       "      <td>0.002351</td>\n",
       "      <td>0.089564</td>\n",
       "      <td>0.913374</td>\n",
       "      <td>0.911584</td>\n",
       "      <td>0.784988</td>\n",
       "      <td>0.035362</td>\n",
       "      <td>4.981252</td>\n",
       "    </tr>\n",
       "    <tr>\n",
       "      <th>2</th>\n",
       "      <td>0.698551</td>\n",
       "      <td>0.036947</td>\n",
       "      <td>0.723721</td>\n",
       "      <td>0.459921</td>\n",
       "      <td>0.602351</td>\n",
       "      <td>0.560279</td>\n",
       "      <td>0.028867</td>\n",
       "      <td>0.414398</td>\n",
       "      <td>0.104540</td>\n",
       "      <td>0.906528</td>\n",
       "      <td>...</td>\n",
       "      <td>0.960674</td>\n",
       "      <td>0.529909</td>\n",
       "      <td>0.911473</td>\n",
       "      <td>0.828246</td>\n",
       "      <td>0.468373</td>\n",
       "      <td>0.582552</td>\n",
       "      <td>0.527382</td>\n",
       "      <td>0.470915</td>\n",
       "      <td>0.756324</td>\n",
       "      <td>6.649698</td>\n",
       "    </tr>\n",
       "    <tr>\n",
       "      <th>3</th>\n",
       "      <td>0.198011</td>\n",
       "      <td>0.724938</td>\n",
       "      <td>0.713586</td>\n",
       "      <td>0.493570</td>\n",
       "      <td>0.812774</td>\n",
       "      <td>0.665962</td>\n",
       "      <td>0.496994</td>\n",
       "      <td>0.145470</td>\n",
       "      <td>0.929903</td>\n",
       "      <td>0.299357</td>\n",
       "      <td>...</td>\n",
       "      <td>0.370109</td>\n",
       "      <td>0.862206</td>\n",
       "      <td>0.275417</td>\n",
       "      <td>0.717374</td>\n",
       "      <td>0.265629</td>\n",
       "      <td>0.952450</td>\n",
       "      <td>0.387913</td>\n",
       "      <td>0.477727</td>\n",
       "      <td>0.566269</td>\n",
       "      <td>6.034292</td>\n",
       "    </tr>\n",
       "    <tr>\n",
       "      <th>4</th>\n",
       "      <td>0.160674</td>\n",
       "      <td>0.462549</td>\n",
       "      <td>0.399120</td>\n",
       "      <td>0.062895</td>\n",
       "      <td>0.933785</td>\n",
       "      <td>0.942120</td>\n",
       "      <td>0.269115</td>\n",
       "      <td>0.780801</td>\n",
       "      <td>0.452808</td>\n",
       "      <td>0.047896</td>\n",
       "      <td>...</td>\n",
       "      <td>0.766598</td>\n",
       "      <td>0.838162</td>\n",
       "      <td>0.351654</td>\n",
       "      <td>0.207323</td>\n",
       "      <td>0.760390</td>\n",
       "      <td>0.860970</td>\n",
       "      <td>0.993952</td>\n",
       "      <td>0.417981</td>\n",
       "      <td>0.991003</td>\n",
       "      <td>7.588461</td>\n",
       "    </tr>\n",
       "  </tbody>\n",
       "</table>\n",
       "<p>5 rows × 21 columns</p>\n",
       "</div>"
      ],
      "text/plain": [
       "         x1        x2        x3        x4        x5        x6        x7  \\\n",
       "0  0.126504  0.477706  0.313475  0.514386  0.743750  0.234681  0.671997   \n",
       "1  0.121590  0.483381  0.724387  0.818556  0.872479  0.441711  0.795640   \n",
       "2  0.698551  0.036947  0.723721  0.459921  0.602351  0.560279  0.028867   \n",
       "3  0.198011  0.724938  0.713586  0.493570  0.812774  0.665962  0.496994   \n",
       "4  0.160674  0.462549  0.399120  0.062895  0.933785  0.942120  0.269115   \n",
       "\n",
       "         x8        x9       x10  ...       x12       x13       x14       x15  \\\n",
       "0  0.270976  0.519267  0.361153  ...  0.571807  0.281180  0.814374  0.527172   \n",
       "1  0.474486  0.157817  0.251904  ...  0.403155  0.372762  0.226465  0.002351   \n",
       "2  0.414398  0.104540  0.906528  ...  0.960674  0.529909  0.911473  0.828246   \n",
       "3  0.145470  0.929903  0.299357  ...  0.370109  0.862206  0.275417  0.717374   \n",
       "4  0.780801  0.452808  0.047896  ...  0.766598  0.838162  0.351654  0.207323   \n",
       "\n",
       "        x16       x17       x18       x19       x20         y  \n",
       "0  0.550691  0.021509  0.028173  0.837283  0.261703  4.077128  \n",
       "1  0.089564  0.913374  0.911584  0.784988  0.035362  4.981252  \n",
       "2  0.468373  0.582552  0.527382  0.470915  0.756324  6.649698  \n",
       "3  0.265629  0.952450  0.387913  0.477727  0.566269  6.034292  \n",
       "4  0.760390  0.860970  0.993952  0.417981  0.991003  7.588461  \n",
       "\n",
       "[5 rows x 21 columns]"
      ]
     },
     "execution_count": 4,
     "metadata": {},
     "output_type": "execute_result"
    }
   ],
   "source": [
    "df.head()"
   ]
  },
  {
   "cell_type": "markdown",
   "metadata": {},
   "source": [
    "What should we do with this? We have 20 $x$ variables and 50 observations of those variables. How can we build a good predictive model for these data?\n",
    "\n",
    "Where do we start?\n",
    "\n",
    "Once we're ready to start looking at models, how do we select variables?\n",
    "\n",
    "### Number of possible models\n",
    "\n",
    "As a bit of an aside, model selection quickly blows up if we want to try all possible combinations. The table below shows the number of models that would need to be evaluated for $p$ features or predictors.\n",
    "\n",
    "$p$ (number of predictors): | 1      | 2     | 10    | 20    | 40    | 100 \n",
    "--------------------------|--------|---------|-------|-------|-------|-----\n",
    "No of models for $p$ predictors| 2   |  4    | 1,024 | 1,0448,576| 1.1 X 10<sup>12</sup> | 1.3 X 10<sup>30</sup>\n",
    "Add square of each predictor | 4 | 16 | 1,048,576 | 1.1 X 10<sup>12</sup> | 1.2 X 10<sup>24</sup> | 1.6 X 10<sup>60</sup>\n",
    "Add pairwise interactions | 2 | 5 | 3.6 X 10<sup>13</sup> | 1.6 X 10<sup>57</sup> | 6.4 X 10<sup>234</sup> | ? 🤯 \n",
    "\n",
    "**Fun fact:** Estimated number of atoms in the observable universe: ~10<sup>80</sup>\n",
    "\n",
    "So...with 20 features, we are approaching the number of atoms in the uniSverse...\n",
    "\n",
    "Somehow need to control for the number of parameters in our model!\n",
    "\n",
    "\n",
    "## 2. Multiple linear regression\n",
    "\n",
    "Let's explore multiple linear regression first to see what happens. _Note that, in the interest of time, I am leaving out exploratory data analyses and visualizations, which is where you should start!_"
   ]
  },
  {
   "cell_type": "code",
   "execution_count": 5,
   "metadata": {},
   "outputs": [
    {
     "name": "stdout",
     "output_type": "stream",
     "text": [
      "R^2: 0.9679699534659556 MSE: 0.07828974536159017\n"
     ]
    }
   ],
   "source": [
    "# Get the dataset ready\n",
    "X = df.drop(columns=['y'])\n",
    "y = df.y\n",
    "\n",
    "model = LinearRegression()\n",
    "model.fit(X, y)\n",
    " \n",
    "# Create and fit a simple LinearRegression model\n",
    "\n",
    "\n",
    "def mse(model, X, y):\n",
    "    y_hat = model.predict(X)\n",
    "    err = np.mean((y - y_hat)**2)\n",
    "    return err\n",
    "\n",
    "print('R^2:', model.score(X, y), 'MSE:', mse(model, X, y))"
   ]
  },
  {
   "cell_type": "markdown",
   "metadata": {},
   "source": [
    "Now that we've got a model, let's use 5-fold cross-validation to estimate how well it will work for new (i.e., non-training) data."
   ]
  },
  {
   "cell_type": "code",
   "execution_count": 6,
   "metadata": {},
   "outputs": [
    {
     "name": "stdout",
     "output_type": "stream",
     "text": [
      "c-v R^2: 0.7734350974615247 c-v MSE: 0.38341921219406266\n"
     ]
    }
   ],
   "source": [
    "kf = KFold(n_splits=5)\n",
    "\n",
    "res = cross_val_score(model, X, y, cv=kf, scoring= mse)\n",
    "cv_mse = np.mean(res)\n",
    "res = cross_val_score(model, X, y, cv=kf)\n",
    "cv_r2 = np.mean(res)\n",
    "\n",
    "print('c-v R^2:', cv_r2, 'c-v MSE:', cv_mse)"
   ]
  },
  {
   "cell_type": "markdown",
   "metadata": {},
   "source": [
    "## 3. Lasso regularization\n",
    "\n",
    "Remember that a model that is too complex, we tend to overfit the training data and get high variance, and if it's not complex enough, we underfit the training data and get high bias. Our goal is to find the model with just enough complexity. We can try to do this as part of the model optimization procedure.\n",
    "\n",
    "So far, we've user the $MSE$ as our loss function. And our models look something like this:\n",
    "\n",
    "$$ \\hat{y} = b_0 + b_{1}x_{1} + b_{2}x_{2} + \\ldots + b_{p}x_{p} $$\n",
    "\n",
    "Let's define:  $\\ell_1 penalty = \\lambda \\sum_{i=1}^{p} |b_{p}|$\n",
    "\n",
    "And then we can make a new loss function that is: \n",
    "\n",
    "   $$  loss = MSE +  \\lambda \\sum_{i=1}^{p} |b_{p}|$$\n",
    "\n",
    "As the coefficient for a feature increases, the $\\ell_1 penalty$ also increases. If the model can push the $b$ for a feature to 0, that feature drops out of the model. By adjusting $\\lambda$, we can adjust the effect of the $\\ell_1 penalty$.\n",
    "\n",
    "This is known as the Lasso, short for **l**east **a**bsolute **s**hrinkage and **s**election **o**perator.\n",
    "\n",
    "Okay, so let's see what the lasso ($\\ell_1$-regularized regression) does with these data.  We can use scikit-learn's `Lasso` estimator for this.  Note that scikit-learn uses `alpha` for the name of the parameter referred to as $\\lambda$ virtually everywhere else (perhaps because `lambda` is a reserved word in Python).\n",
    "\n",
    "As a general practice, you should always **make sure that your predictor variables are on the same scale when fitting a regularized regression model**.  We can have `Lasso` do this for us automatically by passing `normalize=True` when we create the `Lasso` object."
   ]
  },
  {
   "cell_type": "code",
   "execution_count": 7,
   "metadata": {},
   "outputs": [
    {
     "name": "stdout",
     "output_type": "stream",
     "text": [
      "[ 0.          2.07531097 -0.07765883  2.955528    0.01120125  0.19594985\n",
      "  0.          0.04131297  0.15227467  0.09464139 -0.05563188  0.10460274\n",
      " -0.04104897  0.32482676 -0.06779785  0.47211508 -0.16832385  1.02321673\n",
      " -0.          4.28411995]\n",
      "c-v R^2: 0.8600054286944238 c-v MSE: 0.25951580066352337\n"
     ]
    }
   ],
   "source": [
    "model = Pipeline([\n",
    "    ('scaler', StandardScaler()),\n",
    "    ('lasso', Lasso(alpha=0.01))\n",
    "])\n",
    "\n",
    "model.fit(X, y)\n",
    "print(model.named_steps['lasso'].coef_ / model.named_steps['scaler'].scale_) \n",
    "\n",
    "res = cross_val_score(model, X, y, cv=kf, scoring=mse)\n",
    "cv_mse = res.mean()\n",
    "res = cross_val_score(model, X, y, cv=kf)\n",
    "cv_r2 = res.mean()\n",
    "print('c-v R^2:', cv_r2, 'c-v MSE:', cv_mse)"
   ]
  },
  {
   "cell_type": "markdown",
   "metadata": {},
   "source": [
    "## 4. Ridge regression\n",
    "\n",
    "Another method with similar goals, but different results is known as ridge regression. This uses what is referred to as the $\\ell_1 penalty$\n",
    "\n",
    "Let's define:  $\\ell_2 penalty = \\lambda \\sum_{i=1}^{p} b_{p}^{2}$\n",
    "\n",
    "Again, we can add the $\\ell_1 penalty$ to the $MSE$.\n",
    "\n",
    "Let's see what happens if we use ridge regression ($\\ell_2$-regularized regression) with these data.  We can use scikit-learn's `Ridge` estimator to do this, and again, don't forget to make sure that your predictor variables are on the same scale.\n",
    "\n",
    "All we need to do is copy the code from above and change `Lasso` to `Ridge` in the `model` line. The $\\lambda$/`alpha` values have different effects."
   ]
  },
  {
   "cell_type": "code",
   "execution_count": 8,
   "metadata": {},
   "outputs": [
    {
     "name": "stdout",
     "output_type": "stream",
     "text": [
      "[ 0.09531273  2.05605168 -0.10642754  2.9951993   0.07563958  0.27413443\n",
      "  0.02878165  0.06294739  0.22054062  0.11140858 -0.1273955   0.16130407\n",
      " -0.09155563  0.39916988 -0.10958678  0.54319753 -0.18986193  1.04649947\n",
      " -0.09828673  4.20133833]\n",
      "c-v R^2: 0.7800314571282306 c-v MSE: 0.39191244382243856\n"
     ]
    }
   ],
   "source": [
    "model = Pipeline([\n",
    "    ('scaler', StandardScaler()),\n",
    "    ('ridge', Ridge(alpha=1.0))\n",
    "])\n",
    "\n",
    "model.fit(X, y)\n",
    "print(model.named_steps['ridge'].coef_ / model.named_steps['scaler'].scale_) \n",
    "\n",
    "res = cross_val_score(model, X, y, cv=kf, scoring=mse)\n",
    "cv_mse = res.mean()\n",
    "res = cross_val_score(model, X, y, cv=kf)\n",
    "cv_r2 = res.mean()\n",
    "print('c-v R^2:', cv_r2, 'c-v MSE:', cv_mse)"
   ]
  },
  {
   "cell_type": "markdown",
   "metadata": {},
   "source": [
    "## 5. How does $\\lambda$ influence the parameter estimates?\n",
    "\n",
    "Before we move on, let's take a closer look at how changing lambda influences the parameter estimates for both the lasso and ridge regression.\n",
    "\n",
    "**Affect of $\\lambda$ in Lasso Regression**\n",
    "\n",
    "![Graph showing how the features drop out as lambda is increased with Lasso. 4 key features are highlighted](images/Lasso_feature_dropout.png)\n",
    "\n",
    "**Affect of $\\lambda$ in Ridge Regression**\n",
    "\n",
    "![Graph showing how the features drop out as lambda is increased with Ridge. 4 key features are highlighted](images/Ridge_feature_dropout.png)\n",
    "\n",
    "\n",
    "Lasso and ridge regression are examples of *regularization* or *shrinkage* methods, because they regularize/constrain the parameter estimates by shrinking them towards 0."
   ]
  },
  {
   "cell_type": "markdown",
   "metadata": {},
   "source": [
    "## 6. Choosing $\\lambda$ and a modeling procedure\n",
    "\n",
    "How should we choose the \"best\" value of $\\lambda$ for the lasso or ridge regression?  How should we decide whether to use the lasso or ridge regression?  What ideas do you have?"
   ]
  },
  {
   "cell_type": "code",
   "execution_count": 9,
   "metadata": {},
   "outputs": [
    {
     "name": "stdout",
     "output_type": "stream",
     "text": [
      "[-0.          1.75308926  0.          2.56644637 -0.          0.04514838\n",
      "  0.          0.          0.          0.         -0.         -0.\n",
      " -0.          0.          0.          0.39082245 -0.          0.70328889\n",
      "  0.          3.97175774]\n",
      "Lambda: 0.06800373121782305\n"
     ]
    },
    {
     "name": "stdout",
     "output_type": "stream",
     "text": [
      "c-v R^2: 0.8913493059968791 c-v MSE: 0.22966885202406004\n"
     ]
    }
   ],
   "source": [
    "model = Pipeline([\n",
    "    ('scaler', StandardScaler()),\n",
    "    ('lassoCV', LassoCV())\n",
    "])\n",
    "\n",
    "model.fit(X, y)\n",
    "print(model.named_steps['lassoCV'].coef_ / model.named_steps['scaler'].scale_) \n",
    "print(f\"Lambda: {model.named_steps['lassoCV'].alpha_}\")\n",
    "\n",
    "res = cross_val_score(model, X, y, cv=kf, scoring=mse)\n",
    "cv_mse = res.mean()\n",
    "res = cross_val_score(model, X, y, cv=kf)\n",
    "cv_r2 = res.mean()\n",
    "print('c-v R^2:', cv_r2, 'c-v MSE:', cv_mse)"
   ]
  },
  {
   "cell_type": "code",
   "execution_count": 10,
   "metadata": {},
   "outputs": [
    {
     "name": "stdout",
     "output_type": "stream",
     "text": [
      "[ 0.1079782   2.12304809 -0.1257682   3.07907437  0.10617551  0.25588553\n",
      "  0.01914163  0.07295063  0.22561052  0.12119058 -0.11362664  0.19862652\n",
      " -0.11244737  0.43092648 -0.12883634  0.51171208 -0.20553653  1.09218396\n",
      " -0.08187802  4.28795444]\n",
      "Lambda [model.named_steps['ridgeCV]]\n",
      "c-v R^2: 0.7796457715211536 c-v MSE: 0.38131103114121356\n"
     ]
    }
   ],
   "source": [
    "lambdas = np.geomspace(0.1, 10, 100)\n",
    "model = Pipeline([\n",
    "    ('scaler', StandardScaler()),\n",
    "    ('ridgeCV', RidgeCV(alphas=lambdas))\n",
    "])\n",
    "\n",
    "model.fit(X, y)\n",
    "print(model.named_steps['ridgeCV'].coef_ / model.named_steps['scaler'].scale_) \n",
    "print(f\"Lambda [model.named_steps['ridgeCV]]\")\n",
    "\n",
    "res = cross_val_score(model, X, y, cv=kf, scoring=mse)\n",
    "cv_mse = res.mean()\n",
    "res = cross_val_score(model, X, y, cv=kf)\n",
    "cv_r2 = res.mean()\n",
    "print('c-v R^2:', cv_r2, 'c-v MSE:', cv_mse)"
   ]
  },
  {
   "cell_type": "code",
   "execution_count": 11,
   "metadata": {},
   "outputs": [],
   "source": [
    "lambdas = np.geomspace(0.1, 10, 100) # Unlike LassoCV, we need to provide the lambds, here we use a logarithmic scale.\n",
    "                                    # Note that we need to update the search range--0.001 should be good in the end.\n"
   ]
  },
  {
   "cell_type": "markdown",
   "metadata": {},
   "source": [
    "## 7. Why/how do these methods work? Is one better than the other?\n",
    "\n",
    "We'll start by revealing where the data we've been modeling actually came from, which will give us some insight into how these methods work.  Then we'll dig a little deeper into how these methods are able to decrease the expected test error.\n",
    "\n",
    "These data were generated using: $y=1+ 2x_2 + 3x_4 + x_{18} + 4x_{20} + \\epsilon ;    Var[\\epsilon = 0.4] $\n",
    "\n",
    "Look back the coefficients Lasso selected. Quite amazing!\n",
    "\n",
    "### Returning to the bias-variance trade-off\n",
    "\n",
    "The graph below shows the estimated test $MSE$ for models fit to data generated with the process used to generate the data we used in red. In blue is the Bias estimate and in green the variance. The vertical dashed line is the selected $\\lambda$\n",
    "\n",
    "![Graph of the estimated test MSE for models fit to data generated with the process used to generate the data we used in red. In blue is the Bias estimate and in green the variance.](images/Lasso_Bias-Variance_trade-off.png)\n",
    " \n",
    "Notice that the model selected by Lasso does have bias! But we are trading a big reduction in variance for a small increase in bias.\n",
    "\n",
    "\n",
    "### Key points to remember:\n",
    "\n",
    "* The Lasso can drive coefficients to 0; thus, it can perform _feature selection_.\n",
    "* Ridge regression constrains coefficient values (_shrinks_ them), but does not remove them from the model.\n",
    "\n",
    "Which is best depends on your data and the goals of the analysis. In our case, most of the parameters were just noise, so Lasso performed better. If all of the parameters really played into generating the data, Ridge regression likely would have done better. **It depends on the data!**\n",
    "\n",
    "## 8. Other methods\n",
    "\n",
    "There are many other methods available for model/feature selection.  If you've had a statistics course, you've no doubt learned some of them.\n",
    "\n",
    "Unfortunately, we don't have time to cover any of these alternative methods in detail in this course.  I will mention, though, that _dimensionality reduction_ is another widely used, general approach to dealing with model complexity and certainly worth learning about.  _Principle components regression_ is one example of this approach. One downside is that the models are less interpretable.\n",
    "\n",
    "Another method I should mention is the _elastic net_, which combines $\\ell_1$ and $\\ell_2$ penalties into a single fitting procedure and can benefit from the desirable properties of both the lasso and ridge regression."
   ]
  },
  {
   "cell_type": "markdown",
   "metadata": {},
   "source": [
    "## 9. Data analysis lab\n",
    "\n",
    "Now, put together everything that you've learned over the last few units (prediction error, bias and variance; methods for estimating test/prediction error; regularization techniques) and apply it to a data analysis problem.  Returning to the diabetes dataset, your goal is to create a machine learning model that can accurately predict the diabetes risk.\n",
    "\n",
    "## HW-FEB 14 In-Class Notebook\n",
    "## Maria Ugarte Marin and Stephanie Killingsworth"
   ]
  },
  {
   "cell_type": "code",
   "execution_count": 42,
   "metadata": {},
   "outputs": [],
   "source": [
    "import pandas as pd\n",
    "import numpy as np\n",
    "from sklearn.datasets import load_diabetes\n",
    "X_diabetes, y_diabetes = load_diabetes(return_X_y=True)\n"
   ]
  },
  {
   "cell_type": "code",
   "execution_count": null,
   "metadata": {},
   "outputs": [
    {
     "data": {
      "text/plain": [
       "Index(['age', 'sex', 'bmi', 'bp', 's1', 's2', 's3', 's4', 's5', 's6',\n",
       "       'target'],\n",
       "      dtype='object')"
      ]
     },
     "execution_count": 40,
     "metadata": {},
     "output_type": "execute_result"
    }
   ],
   "source": [
    "df = load_diabetes(as_frame=True)\n",
    "diabetes = df.frame\n",
    "\n",
    "diabetes.columns\n",
    "\n"
   ]
  },
  {
   "cell_type": "code",
   "execution_count": 31,
   "metadata": {},
   "outputs": [
    {
     "name": "stdout",
     "output_type": "stream",
     "text": [
      ".. _diabetes_dataset:\n",
      "\n",
      "Diabetes dataset\n",
      "----------------\n",
      "\n",
      "Ten baseline variables, age, sex, body mass index, average blood\n",
      "pressure, and six blood serum measurements were obtained for each of n =\n",
      "442 diabetes patients, as well as the response of interest, a\n",
      "quantitative measure of disease progression one year after baseline.\n",
      "\n",
      "**Data Set Characteristics:**\n",
      "\n",
      ":Number of Instances: 442\n",
      "\n",
      ":Number of Attributes: First 10 columns are numeric predictive values\n",
      "\n",
      ":Target: Column 11 is a quantitative measure of disease progression one year after baseline\n",
      "\n",
      ":Attribute Information:\n",
      "    - age     age in years\n",
      "    - sex\n",
      "    - bmi     body mass index\n",
      "    - bp      average blood pressure\n",
      "    - s1      tc, total serum cholesterol\n",
      "    - s2      ldl, low-density lipoproteins\n",
      "    - s3      hdl, high-density lipoproteins\n",
      "    - s4      tch, total cholesterol / HDL\n",
      "    - s5      ltg, possibly log of serum triglycerides level\n",
      "    - s6      glu, blood sugar level\n",
      "\n",
      "Note: Each of these 10 feature variables have been mean centered and scaled by the standard deviation times the square root of `n_samples` (i.e. the sum of squares of each column totals 1).\n",
      "\n",
      "Source URL:\n",
      "https://www4.stat.ncsu.edu/~boos/var.select/diabetes.html\n",
      "\n",
      "For more information see:\n",
      "Bradley Efron, Trevor Hastie, Iain Johnstone and Robert Tibshirani (2004) \"Least Angle Regression,\" Annals of Statistics (with discussion), 407-499.\n",
      "(https://web.stanford.edu/~hastie/Papers/LARS/LeastAngle_2002.pdf)\n",
      "\n"
     ]
    }
   ],
   "source": [
    "print(df.DESCR)"
   ]
  },
  {
   "cell_type": "code",
   "execution_count": 34,
   "metadata": {},
   "outputs": [
    {
     "data": {
      "text/html": [
       "<div>\n",
       "<style scoped>\n",
       "    .dataframe tbody tr th:only-of-type {\n",
       "        vertical-align: middle;\n",
       "    }\n",
       "\n",
       "    .dataframe tbody tr th {\n",
       "        vertical-align: top;\n",
       "    }\n",
       "\n",
       "    .dataframe thead th {\n",
       "        text-align: right;\n",
       "    }\n",
       "</style>\n",
       "<table border=\"1\" class=\"dataframe\">\n",
       "  <thead>\n",
       "    <tr style=\"text-align: right;\">\n",
       "      <th></th>\n",
       "      <th>age</th>\n",
       "      <th>sex</th>\n",
       "      <th>bmi</th>\n",
       "      <th>bp</th>\n",
       "      <th>s1</th>\n",
       "      <th>s2</th>\n",
       "      <th>s3</th>\n",
       "      <th>s4</th>\n",
       "      <th>s5</th>\n",
       "      <th>s6</th>\n",
       "      <th>target</th>\n",
       "    </tr>\n",
       "  </thead>\n",
       "  <tbody>\n",
       "    <tr>\n",
       "      <th>0</th>\n",
       "      <td>0.000381</td>\n",
       "      <td>0.050680</td>\n",
       "      <td>0.061696</td>\n",
       "      <td>0.021872</td>\n",
       "      <td>-0.044223</td>\n",
       "      <td>-0.034821</td>\n",
       "      <td>-0.043401</td>\n",
       "      <td>-0.002592</td>\n",
       "      <td>0.019907</td>\n",
       "      <td>-0.017646</td>\n",
       "      <td>151.0</td>\n",
       "    </tr>\n",
       "    <tr>\n",
       "      <th>1</th>\n",
       "      <td>-0.000019</td>\n",
       "      <td>-0.044642</td>\n",
       "      <td>-0.051474</td>\n",
       "      <td>-0.026328</td>\n",
       "      <td>-0.008449</td>\n",
       "      <td>-0.019163</td>\n",
       "      <td>0.074412</td>\n",
       "      <td>-0.039493</td>\n",
       "      <td>-0.068332</td>\n",
       "      <td>-0.092204</td>\n",
       "      <td>75.0</td>\n",
       "    </tr>\n",
       "    <tr>\n",
       "      <th>2</th>\n",
       "      <td>0.000853</td>\n",
       "      <td>0.050680</td>\n",
       "      <td>0.044451</td>\n",
       "      <td>-0.005670</td>\n",
       "      <td>-0.045599</td>\n",
       "      <td>-0.034194</td>\n",
       "      <td>-0.032356</td>\n",
       "      <td>-0.002592</td>\n",
       "      <td>0.002861</td>\n",
       "      <td>-0.025930</td>\n",
       "      <td>141.0</td>\n",
       "    </tr>\n",
       "    <tr>\n",
       "      <th>3</th>\n",
       "      <td>-0.000891</td>\n",
       "      <td>-0.044642</td>\n",
       "      <td>-0.011595</td>\n",
       "      <td>-0.036656</td>\n",
       "      <td>0.012191</td>\n",
       "      <td>0.024991</td>\n",
       "      <td>-0.036038</td>\n",
       "      <td>0.034309</td>\n",
       "      <td>0.022688</td>\n",
       "      <td>-0.009362</td>\n",
       "      <td>206.0</td>\n",
       "    </tr>\n",
       "    <tr>\n",
       "      <th>4</th>\n",
       "      <td>0.000054</td>\n",
       "      <td>-0.044642</td>\n",
       "      <td>-0.036385</td>\n",
       "      <td>0.021872</td>\n",
       "      <td>0.003935</td>\n",
       "      <td>0.015596</td>\n",
       "      <td>0.008142</td>\n",
       "      <td>-0.002592</td>\n",
       "      <td>-0.031988</td>\n",
       "      <td>-0.046641</td>\n",
       "      <td>135.0</td>\n",
       "    </tr>\n",
       "  </tbody>\n",
       "</table>\n",
       "</div>"
      ],
      "text/plain": [
       "        age       sex       bmi        bp        s1        s2        s3  \\\n",
       "0  0.000381  0.050680  0.061696  0.021872 -0.044223 -0.034821 -0.043401   \n",
       "1 -0.000019 -0.044642 -0.051474 -0.026328 -0.008449 -0.019163  0.074412   \n",
       "2  0.000853  0.050680  0.044451 -0.005670 -0.045599 -0.034194 -0.032356   \n",
       "3 -0.000891 -0.044642 -0.011595 -0.036656  0.012191  0.024991 -0.036038   \n",
       "4  0.000054 -0.044642 -0.036385  0.021872  0.003935  0.015596  0.008142   \n",
       "\n",
       "         s4        s5        s6  target  \n",
       "0 -0.002592  0.019907 -0.017646   151.0  \n",
       "1 -0.039493 -0.068332 -0.092204    75.0  \n",
       "2 -0.002592  0.002861 -0.025930   141.0  \n",
       "3  0.034309  0.022688 -0.009362   206.0  \n",
       "4 -0.002592 -0.031988 -0.046641   135.0  "
      ]
     },
     "execution_count": 34,
     "metadata": {},
     "output_type": "execute_result"
    }
   ],
   "source": [
    "diabetes.head()"
   ]
  },
  {
   "cell_type": "code",
   "execution_count": 52,
   "metadata": {},
   "outputs": [
    {
     "data": {
      "text/plain": [
       "age       0\n",
       "sex       0\n",
       "bmi       0\n",
       "bp        0\n",
       "s1        0\n",
       "s2        0\n",
       "s3        0\n",
       "s4        0\n",
       "s5        0\n",
       "s6        0\n",
       "target    0\n",
       "dtype: int64"
      ]
     },
     "execution_count": 52,
     "metadata": {},
     "output_type": "execute_result"
    }
   ],
   "source": [
    "\n",
    "df.frame.isnull().sum()"
   ]
  },
  {
   "cell_type": "code",
   "execution_count": 41,
   "metadata": {},
   "outputs": [
    {
     "name": "stdout",
     "output_type": "stream",
     "text": [
      "MSE: 3434.536284214465\n"
     ]
    },
    {
     "data": {
      "image/png": "[encoded data removed]",
      "text/plain": [
       "<Figure size 640x480 with 1 Axes>"
      ]
     },
     "metadata": {},
     "output_type": "display_data"
    }
   ],
   "source": [
    "import matplotlib.pyplot as plt\n",
    "from sklearn.metrics import mean_squared_error  # We need this to evaluate the model\n",
    "from sklearn.linear_model import Lasso  # We need this to create the model  \n",
    "from sklearn.model_selection import train_test_split  # We need this to split the data  \n",
    "from sklearn.preprocessing import StandardScaler  # We need this to scale the data\n",
    "\n",
    "X_train, X_test, y_train, y_test = train_test_split(X_diabetes, y_diabetes, test_size=0.2, random_state=0)\n",
    "\n",
    "scaler = StandardScaler()\n",
    "scaler.fit(X_train)\n",
    "X_train = scaler.transform(X_train)\n",
    "X_test = scaler.transform(X_test)\n",
    "\n",
    "model = Lasso(alpha=0.1)\n",
    "model.fit(X_train, y_train)\n",
    "y_pred = model.predict(X_test)\n",
    "print('MSE:', mean_squared_error(y_test, y_pred))\n",
    "\n",
    "lambdas = np.geomspace(0.1, 10, 100)\n",
    "mse = []\n",
    "for alpha in lambdas:\n",
    "    model = Lasso(alpha=alpha)\n",
    "    model.fit(X_train, y_train)\n",
    "    y_pred = model.predict(X_test)\n",
    "    mse.append(mean_squared_error(y_test, y_pred))\n",
    "\n",
    "plt.plot(lambdas, mse)\n",
    "plt.xscale('log')\n",
    "plt.xlabel('lambda')\n",
    "plt.ylabel('MSE')\n",
    "plt.show()\n",
    "\n",
    "    "
   ]
  },
  {
   "cell_type": "code",
   "execution_count": 45,
   "metadata": {},
   "outputs": [
    {
     "name": "stdout",
     "output_type": "stream",
     "text": [
      "Linear Regression MSE: 2900.193628493482\n",
      "Linear Regression R^2: 0.4526027629719195\n",
      "Ridge Regression MSE: 3077.41593882723\n",
      "Ridge Regression R^2: 0.41915292635986545\n",
      "Lasso Regression MSE: 2878.559386186607\n",
      "Lasso Regression R^2: 0.45668611945806237\n",
      "Linear Regression CV MSE: 2993.0813104693307\n",
      "Linear Regression CV R^2: 0.48231643590864215\n",
      "Ridge Regression CV MSE: 3420.32407441944\n",
      "Ridge Regression CV R^2: 0.410174971340889\n",
      "Lasso Regression CV MSE: 2999.67843224974\n",
      "Lasso Regression CV R^2: 0.4810959145285808\n"
     ]
    }
   ],
   "source": [
    "import numpy as np\n",
    "from sklearn.datasets import load_diabetes\n",
    "from sklearn.linear_model import LinearRegression, Ridge, Lasso\n",
    "from sklearn.model_selection import train_test_split, cross_val_score\n",
    "from sklearn.metrics import mean_squared_error, r2_score\n",
    "\n",
    "# Load the diabetes dataset\n",
    "diabetes = load_diabetes()\n",
    "X = diabetes.data\n",
    "y = diabetes.target\n",
    "\n",
    "# Split the data into training and testing sets\n",
    "X_train, X_test, y_train, y_test = train_test_split(X, y, test_size=0.2, random_state=42)\n",
    "\n",
    "# Initialize models\n",
    "linear_regression = LinearRegression()\n",
    "ridge_regression = Ridge(alpha=1.0)\n",
    "lasso_regression = Lasso(alpha=0.01)\n",
    "\n",
    "# Train and evaluate Linear Regression model\n",
    "linear_regression.fit(X_train, y_train)\n",
    "y_pred_lr = linear_regression.predict(X_test)\n",
    "mse_lr = mean_squared_error(y_test, y_pred_lr)\n",
    "r2_lr = r2_score(y_test, y_pred_lr)\n",
    "print(f\"Linear Regression MSE: {mse_lr}\")\n",
    "print(f\"Linear Regression R^2: {r2_lr}\")\n",
    "\n",
    "# Train and evaluate Ridge Regression model\n",
    "ridge_regression.fit(X_train, y_train)\n",
    "y_pred_ridge = ridge_regression.predict(X_test)\n",
    "mse_ridge = mean_squared_error(y_test, y_pred_ridge)\n",
    "r2_ridge = r2_score(y_test, y_pred_ridge)\n",
    "print(f\"Ridge Regression MSE: {mse_ridge}\")\n",
    "print(f\"Ridge Regression R^2: {r2_ridge}\")\n",
    "\n",
    "# Train and evaluate Lasso Regression model\n",
    "lasso_regression.fit(X_train, y_train)\n",
    "y_pred_lasso = lasso_regression.predict(X_test)\n",
    "mse_lasso = mean_squared_error(y_test, y_pred_lasso)\n",
    "r2_lasso = r2_score(y_test, y_pred_lasso)\n",
    "print(f\"Lasso Regression MSE: {mse_lasso}\")\n",
    "print(f\"Lasso Regression R^2: {r2_lasso}\")\n",
    "\n",
    "# Cross-validation scores for each model\n",
    "cv_scores_lr_mse = cross_val_score(linear_regression, X, y, cv=5, scoring='neg_mean_squared_error')\n",
    "cv_scores_ridge_mse = cross_val_score(ridge_regression, X, y, cv=5, scoring='neg_mean_squared_error')\n",
    "cv_scores_lasso_mse = cross_val_score(lasso_regression, X, y, cv=5, scoring='neg_mean_squared_error')\n",
    "\n",
    "cv_scores_lr_r2 = cross_val_score(linear_regression, X, y, cv=5, scoring='r2')\n",
    "cv_scores_ridge_r2 = cross_val_score(ridge_regression, X, y, cv=5, scoring='r2')\n",
    "cv_scores_lasso_r2 = cross_val_score(lasso_regression, X, y, cv=5, scoring='r2')\n",
    "\n",
    "print(f\"Linear Regression CV MSE: {-np.mean(cv_scores_lr_mse)}\")\n",
    "print(f\"Linear Regression CV R^2: {np.mean(cv_scores_lr_r2)}\")\n",
    "print(f\"Ridge Regression CV MSE: {-np.mean(cv_scores_ridge_mse)}\")\n",
    "print(f\"Ridge Regression CV R^2: {np.mean(cv_scores_ridge_r2)}\")\n",
    "print(f\"Lasso Regression CV MSE: {-np.mean(cv_scores_lasso_mse)}\")\n",
    "print(f\"Lasso Regression CV R^2: {np.mean(cv_scores_lasso_r2)}\")"
   ]
  },
  {
   "cell_type": "code",
   "execution_count": 55,
   "metadata": {},
   "outputs": [
    {
     "data": {
      "image/png": "[encoded data removed]",
      "text/plain": [
       "<Figure size 640x480 with 1 Axes>"
      ]
     },
     "metadata": {},
     "output_type": "display_data"
    }
   ],
   "source": [
    "# Calculate mean cross-validation R^2 scores\n",
    "cv_r2_lr = np.mean(cv_scores_lr_r2)\n",
    "cv_r2_ridge = np.mean(cv_scores_ridge_r2)\n",
    "cv_r2_lasso = np.mean(cv_scores_lasso_r2)\n",
    "\n",
    "# Plot the R^2 scores\n",
    "models = ['Linear Regression', 'Ridge Regression', 'Lasso Regression']\n",
    "r2_scores = [r2_lr, r2_ridge, r2_lasso]\n",
    "cv_r2_scores = [cv_r2_lr, cv_r2_ridge, cv_r2_lasso]\n",
    "\n",
    "x = np.arange(len(models))  # the label locations\n",
    "width = 0.35  # the width of the bars\n",
    "\n",
    "fig, ax = plt.subplots()\n",
    "rects1 = ax.bar(x - width/2, r2_scores, width, label='Test R^2')\n",
    "rects2 = ax.bar(x + width/2, cv_r2_scores, width, label='CV R^2')\n",
    "\n",
    "# Add some text for labels, title and custom x-axis tick labels, etc.\n",
    "ax.set_xlabel('Models')\n",
    "ax.set_ylabel('R^2 Score')\n",
    "ax.set_title('R^2 Scores by Model')\n",
    "ax.set_xticks(x)\n",
    "ax.set_xticklabels(models)\n",
    "ax.legend()\n",
    "\n",
    "# Attach a text label above each bar in rects, displaying its height.\n",
    "def autolabel(rects):\n",
    "    \"\"\"Attach a text label above each bar in *rects*, displaying its height.\"\"\"\n",
    "    for rect in rects:\n",
    "        height = rect.get_height()\n",
    "        ax.annotate('{}'.format(round(height, 2)),\n",
    "                    xy=(rect.get_x() + rect.get_width() / 2, height),\n",
    "                    xytext=(0, 3),  # 3 points vertical offset\n",
    "                    textcoords=\"offset points\",\n",
    "                    ha='center', va='bottom')\n",
    "\n",
    "autolabel(rects1)\n",
    "autolabel(rects2)\n",
    "\n",
    "fig.tight_layout()\n",
    "\n",
    "plt.show()"
   ]
  },
  {
   "cell_type": "code",
   "execution_count": null,
   "metadata": {},
   "outputs": [],
   "source": []
  }
 ],
 "metadata": {
  "kernelspec": {
   "display_name": "Python 3",
   "language": "python",
   "name": "python3"
  },
  "language_info": {
   "codemirror_mode": {
    "name": "ipython",
    "version": 3
   },
   "file_extension": ".py",
   "mimetype": "text/x-python",
   "name": "python",
   "nbconvert_exporter": "python",
   "pygments_lexer": "ipython3",
   "version": "3.12.1"
  }
 },
 "nbformat": 4,
 "nbformat_minor": 4
}
